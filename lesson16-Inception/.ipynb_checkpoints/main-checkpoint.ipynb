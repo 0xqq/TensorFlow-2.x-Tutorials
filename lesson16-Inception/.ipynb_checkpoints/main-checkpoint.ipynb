{
 "cells": [
  {
   "cell_type": "code",
   "execution_count": 15,
   "metadata": {
    "collapsed": true
   },
   "outputs": [],
   "source": [
    "import  os\n",
    "import  tensorflow as tf\n",
    "import  numpy as np\n",
    "from    tensorflow import keras"
   ]
  },
  {
   "cell_type": "code",
   "execution_count": 16,
   "metadata": {},
   "outputs": [],
   "source": [
    "tf.random.set_seed(22)\n",
    "np.random.seed(22)\n",
    "os.environ['TF_CPP_MIN_LOG_LEVEL'] = '2'\n",
    "assert tf.__version__.startswith('2.')"
   ]
  },
  {
   "cell_type": "code",
   "execution_count": 17,
   "metadata": {},
   "outputs": [],
   "source": [
    "(x_train, y_train), (x_test, y_test) = keras.datasets.mnist.load_data()\n",
    "x_train, x_test = x_train.astype(np.float32)/255., x_test.astype(np.float32)/255.\n",
    "# one hot encode the labels. convert back to numpy as we cannot use a combination of numpy\n",
    "# and tensors as input to keras\n",
    "y_train_ohe = tf.one_hot(y_train, depth=10).numpy()\n",
    "y_test_ohe = tf.one_hot(y_test, depth=10).numpy()"
   ]
  },
  {
   "cell_type": "code",
   "execution_count": 19,
   "metadata": {},
   "outputs": [
    {
     "name": "stdout",
     "output_type": "stream",
     "text": [
      "(60000, 28, 28) (60000,)\n",
      "(10000, 28, 28) (10000,)\n"
     ]
    }
   ],
   "source": [
    "print(x_train.shape, y_train.shape)\n",
    "print(x_test.shape, y_test.shape)"
   ]
  },
  {
   "cell_type": "code",
   "execution_count": 26,
   "metadata": {},
   "outputs": [],
   "source": [
    "class ConvBNRelu(keras.Model):\n",
    "    \n",
    "    def __init__(self, ch, kernelsz=3, strides=1, padding='same'):\n",
    "        super(ConvBNRelu, self).__init__()\n",
    "        \n",
    "        self.model = keras.models.Sequential([\n",
    "            keras.layers.Conv2D(ch, kernelsz, strides=strides, padding=padding),\n",
    "            keras.layers.BatchNormalization(),\n",
    "            keras.layers.ReLu()\n",
    "        ])\n",
    "        \n",
    "        \n",
    "    def call(self, x, training=None):\n",
    "        \n",
    "        x = self.model(x, training=training)\n",
    "        \n",
    "        return x \n",
    "    \n",
    "        \n",
    "        "
   ]
  },
  {
   "cell_type": "code",
   "execution_count": 27,
   "metadata": {},
   "outputs": [],
   "source": [
    "class InceptionBlk(keras.Model):\n",
    "    \n",
    "    def __init__(self, ch, strides=1):\n",
    "        super(InceptionBlk, self).__init__()\n",
    "        \n",
    "        self.ch = ch\n",
    "        self.strides = strides\n",
    "        \n",
    "        self.conv1 = ConvBNRelu(ch, strides=strides)\n",
    "        self.covv2 = ConvBNRelu(ch, kernelsz=3, strides=strides)\n",
    "        self.conv3_1 = ConvBNRelu(ch, kernelsz=3, strides=strides)\n",
    "        self.conv3_2 = ConvBNRelu(ch, kernelsz=3, strides=1)\n",
    "        \n",
    "        self.pool = keras.layers.MaxPooling2D(3, strides=1, padding='same')\n",
    "        self.pool_conv = ConvBNRelu(ch, strides=strides)\n",
    "        \n",
    "        \n",
    "    def call(self, x, training=None):\n",
    "        \n",
    "        \n",
    "        x1 = self.conv1(x, training=training)\n",
    "\n",
    "        x2 = self.conv2(x, training=training)\n",
    "                \n",
    "        x3_1 = self.conv3_1(x, training=training)\n",
    "        x3_2 = self.conv3_2(x3_1, training=training)\n",
    "                \n",
    "        x4 = self.maxpool(x)\n",
    "        x4 = self.maxpool_conv(x4, training=training)\n",
    "        \n",
    "        # concat along axis=channel\n",
    "        x = tf.concat([x1, x2, x3, x4], axis=3)\n",
    "        \n",
    "        return x"
   ]
  },
  {
   "cell_type": "code",
   "execution_count": 28,
   "metadata": {},
   "outputs": [],
   "source": [
    "class Inception(keras.Model):\n",
    "    \n",
    "    def __init__(self, num_layers, num_classes, init_ch=16):\n",
    "        super(Inception, self).__init__()\n",
    "        \n",
    "        self.in_channels = init_ch\n",
    "        self.out_channels = init_ch\n",
    "        self.num_layers = num_layers\n",
    "        self.init_ch = init_ch\n",
    "        \n",
    "        self.conv1 = ConvBNRelu(init_ch)\n",
    "        \n",
    "        self.blocks = keras.models.Sequential()\n",
    "        \n",
    "        for block_id in range(num_layers):\n",
    "            \n",
    "            for layer_id in range(2):\n",
    "                \n",
    "                if layer_id == 0:\n",
    "                    \n",
    "                    block = InceptionBlk(self.out_channels, strides=2)\n",
    "                    \n",
    "                else:\n",
    "                    block = InceptionBlk(self.out_channels, strides=1)\n",
    "                    \n",
    "                self.blocks.add(block)\n",
    "            \n",
    "            # enlarger out_channels per block    \n",
    "            self.out_channels *= 2\n",
    "            \n",
    "        self.avg_pool = keras.layers.GlobalAveragePooling2D()\n",
    "        self.fc = keras.layers.Dense(num_classes)\n",
    "        \n",
    "        \n",
    "    def call(self, x, training=None):\n",
    "        \n",
    "        out = self.conv1(x, training=training)\n",
    "        \n",
    "        out = self.blocks(out, training=training)\n",
    "        \n",
    "        out = self.avg_pool(out)\n",
    "        out = self.fc(out)\n",
    "        \n",
    "        return out    \n",
    "            \n",
    "        "
   ]
  },
  {
   "cell_type": "code",
   "execution_count": 29,
   "metadata": {},
   "outputs": [
    {
     "ename": "AttributeError",
     "evalue": "module 'tensorflow.python.keras.api._v2.keras.layers' has no attribute 'ReLu'",
     "output_type": "error",
     "traceback": [
      "\u001b[0;31m---------------------------------------------------------------------------\u001b[0m",
      "\u001b[0;31mAttributeError\u001b[0m                            Traceback (most recent call last)",
      "\u001b[0;32m<ipython-input-29-b4541252b6bc>\u001b[0m in \u001b[0;36m<module>\u001b[0;34m()\u001b[0m\n\u001b[1;32m      2\u001b[0m \u001b[0mbatch_size\u001b[0m \u001b[0;34m=\u001b[0m \u001b[0;36m32\u001b[0m\u001b[0;34m\u001b[0m\u001b[0m\n\u001b[1;32m      3\u001b[0m \u001b[0mepochs\u001b[0m \u001b[0;34m=\u001b[0m \u001b[0;36m100\u001b[0m\u001b[0;34m\u001b[0m\u001b[0m\n\u001b[0;32m----> 4\u001b[0;31m \u001b[0mmodel\u001b[0m \u001b[0;34m=\u001b[0m \u001b[0mInception\u001b[0m\u001b[0;34m(\u001b[0m\u001b[0;36m2\u001b[0m\u001b[0;34m,\u001b[0m \u001b[0;36m10\u001b[0m\u001b[0;34m)\u001b[0m\u001b[0;34m\u001b[0m\u001b[0m\n\u001b[0m\u001b[1;32m      5\u001b[0m model.compile(optimizer=tf.train.AdamOptimizer(0.01), \n\u001b[1;32m      6\u001b[0m               \u001b[0mloss\u001b[0m\u001b[0;34m=\u001b[0m\u001b[0mkeras\u001b[0m\u001b[0;34m.\u001b[0m\u001b[0mlosses\u001b[0m\u001b[0;34m.\u001b[0m\u001b[0mCategoricalCrossEntropy\u001b[0m\u001b[0;34m(\u001b[0m\u001b[0mfrom_logits\u001b[0m\u001b[0;34m=\u001b[0m\u001b[0;32mTrue\u001b[0m\u001b[0;34m)\u001b[0m\u001b[0;34m,\u001b[0m\u001b[0;34m\u001b[0m\u001b[0m\n",
      "\u001b[0;32m<ipython-input-28-8b95f7dacd67>\u001b[0m in \u001b[0;36m__init__\u001b[0;34m(self, num_layers, num_classes, init_ch)\u001b[0m\n\u001b[1;32m      9\u001b[0m         \u001b[0mself\u001b[0m\u001b[0;34m.\u001b[0m\u001b[0minit_ch\u001b[0m \u001b[0;34m=\u001b[0m \u001b[0minit_ch\u001b[0m\u001b[0;34m\u001b[0m\u001b[0m\n\u001b[1;32m     10\u001b[0m \u001b[0;34m\u001b[0m\u001b[0m\n\u001b[0;32m---> 11\u001b[0;31m         \u001b[0mself\u001b[0m\u001b[0;34m.\u001b[0m\u001b[0mconv1\u001b[0m \u001b[0;34m=\u001b[0m \u001b[0mConvBNRelu\u001b[0m\u001b[0;34m(\u001b[0m\u001b[0minit_ch\u001b[0m\u001b[0;34m)\u001b[0m\u001b[0;34m\u001b[0m\u001b[0m\n\u001b[0m\u001b[1;32m     12\u001b[0m \u001b[0;34m\u001b[0m\u001b[0m\n\u001b[1;32m     13\u001b[0m         \u001b[0mself\u001b[0m\u001b[0;34m.\u001b[0m\u001b[0mblocks\u001b[0m \u001b[0;34m=\u001b[0m \u001b[0mkeras\u001b[0m\u001b[0;34m.\u001b[0m\u001b[0mmodels\u001b[0m\u001b[0;34m.\u001b[0m\u001b[0mSequential\u001b[0m\u001b[0;34m(\u001b[0m\u001b[0;34m)\u001b[0m\u001b[0;34m\u001b[0m\u001b[0m\n",
      "\u001b[0;32m<ipython-input-26-d969f031e087>\u001b[0m in \u001b[0;36m__init__\u001b[0;34m(self, ch, kernelsz, strides, padding)\u001b[0m\n\u001b[1;32m      7\u001b[0m             \u001b[0mkeras\u001b[0m\u001b[0;34m.\u001b[0m\u001b[0mlayers\u001b[0m\u001b[0;34m.\u001b[0m\u001b[0mConv2D\u001b[0m\u001b[0;34m(\u001b[0m\u001b[0mch\u001b[0m\u001b[0;34m,\u001b[0m \u001b[0mkernelsz\u001b[0m\u001b[0;34m,\u001b[0m \u001b[0mstrides\u001b[0m\u001b[0;34m=\u001b[0m\u001b[0mstrides\u001b[0m\u001b[0;34m,\u001b[0m \u001b[0mpadding\u001b[0m\u001b[0;34m=\u001b[0m\u001b[0mpadding\u001b[0m\u001b[0;34m)\u001b[0m\u001b[0;34m,\u001b[0m\u001b[0;34m\u001b[0m\u001b[0m\n\u001b[1;32m      8\u001b[0m             \u001b[0mkeras\u001b[0m\u001b[0;34m.\u001b[0m\u001b[0mlayers\u001b[0m\u001b[0;34m.\u001b[0m\u001b[0mBatchNormalization\u001b[0m\u001b[0;34m(\u001b[0m\u001b[0;34m)\u001b[0m\u001b[0;34m,\u001b[0m\u001b[0;34m\u001b[0m\u001b[0m\n\u001b[0;32m----> 9\u001b[0;31m             \u001b[0mkeras\u001b[0m\u001b[0;34m.\u001b[0m\u001b[0mlayers\u001b[0m\u001b[0;34m.\u001b[0m\u001b[0mReLu\u001b[0m\u001b[0;34m(\u001b[0m\u001b[0;34m)\u001b[0m\u001b[0;34m\u001b[0m\u001b[0m\n\u001b[0m\u001b[1;32m     10\u001b[0m         ])\n\u001b[1;32m     11\u001b[0m \u001b[0;34m\u001b[0m\u001b[0m\n",
      "\u001b[0;31mAttributeError\u001b[0m: module 'tensorflow.python.keras.api._v2.keras.layers' has no attribute 'ReLu'"
     ]
    }
   ],
   "source": [
    "# build model and optimizer\n",
    "batch_size = 32\n",
    "epochs = 100\n",
    "model = Inception(2, 10)\n",
    "model.compile(optimizer=tf.train.AdamOptimizer(0.01), \n",
    "              loss=keras.losses.CategoricalCrossEntropy(from_logits=True),\n",
    "              metrics=['accuracy'])\n",
    "\n",
    "# TF Keras tries to use entire dataset to determine shape without this step when using .fit()\n",
    "# Fix = Use exactly one sample from the provided input dataset to determine input/output shape/s for the model\n",
    "dummy_x = tf.zeros((1, image_size, image_size, 1))\n",
    "model._set_inputs(dummy_x)\n",
    "\n",
    "print(\"Number of variables in the model :\", len(model.variables))\n",
    "model.summary()\n",
    "\n",
    "# train\n",
    "model.fit(x_train, y_train_ohe, batch_size=batch_size, epochs=epochs,\n",
    "          validation_data=(x_test, y_test_ohe), verbose=1)\n",
    "\n",
    "# evaluate on test set\n",
    "scores = model.evaluate(x_test, y_test_ohe, batch_size, verbose=1)\n",
    "print(\"Final test loss and accuracy :\", scores)\n",
    "\n"
   ]
  },
  {
   "cell_type": "code",
   "execution_count": 13,
   "metadata": {},
   "outputs": [],
   "source": []
  },
  {
   "cell_type": "code",
   "execution_count": 13,
   "metadata": {},
   "outputs": [],
   "source": []
  },
  {
   "cell_type": "code",
   "execution_count": 13,
   "metadata": {},
   "outputs": [],
   "source": []
  },
  {
   "cell_type": "code",
   "execution_count": 13,
   "metadata": {},
   "outputs": [],
   "source": []
  },
  {
   "cell_type": "code",
   "execution_count": null,
   "metadata": {},
   "outputs": [],
   "source": []
  }
 ],
 "metadata": {
  "kernelspec": {
   "display_name": "Python 3",
   "language": "python",
   "name": "python3"
  },
  "language_info": {
   "codemirror_mode": {
    "name": "ipython",
    "version": 3
   },
   "file_extension": ".py",
   "mimetype": "text/x-python",
   "name": "python",
   "nbconvert_exporter": "python",
   "pygments_lexer": "ipython3",
   "version": "3.6.4"
  }
 },
 "nbformat": 4,
 "nbformat_minor": 1
}
